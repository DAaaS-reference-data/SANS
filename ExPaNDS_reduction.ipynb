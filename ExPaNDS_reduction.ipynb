{
 "cells": [
  {
   "cell_type": "code",
   "execution_count": null,
   "metadata": {},
   "outputs": [],
   "source": [
    "# on IDAaaS, to run Mantid within Jupyter, open Jupyter from the start menu and choose one of the Mantid kernels\n",
    "import sys\n",
    "import os\n",
    "from mantid.simpleapi import *\n",
    "import sans.command_interface.ISISCommandInterface as ici\n",
    "\n",
    "# grabs the location of the current directory, assuming you haven't moved anything within the repository\n",
    "datapath = os.getcwd()\n",
    "\n",
    "# save the current state of the default search and save directories\n",
    "dirs_before = config[\"datasearch.directories\"]\n",
    "savedir_before = config[\"defaultsave.directory\"]\n",
    "\n",
    "# set the required search directories and save directory\n",
    "config[\"datasearch.directories\"] = f\"{datapath}/nexus_files/;{datapath}/mantid-files/;{datapath}\"\n",
    "config[\"defaultsave.directory\"] = f\"{datapath}\"\n",
    "\n",
    "# this reduction process will use the ISIS SANS reduction routines and assumes that the \n",
    "# appropriate data folders have been setup in the right order in Mantid.\n",
    "# The saved data and add files will be deposited into the default save folder set in mantid\n",
    "\n",
    "def reducerun1D(samplesans,sampletrans,cansans,cantrans,direct,maskfile=\"\",savefile=''):\n",
    "    # define a function to perform the 1d data reduction and save the output workspace\n",
    "    # in NXCanSAS format\n",
    "    ici.Clean()\n",
    "    ici.UseCompatibilityMode()\n",
    "    ici.LOQ()\n",
    "    ici.Set1D()\n",
    "    ici.MaskFile(maskfile)\n",
    "    ici.AssignSample(samplesans)\n",
    "    ici.AssignCan(cansans)\n",
    "    ici.TransmissionSample(sampletrans,direct)\n",
    "    ici.TransmissionCan(cantrans,direct)\n",
    "    \n",
    "    ici.WavRangeReduction(None, None, ici.DefaultTrans)\n",
    "    SaveNXcanSAS(mtd[\"{}_main_1D_2.2_10.0\".format(samplesans[:5])],\"{}_main_1D_2.2_10.0.h5\".format(samplesans[:5]))\n",
    "    if len(savefile)>0:\n",
    "        SaveNXcanSAS(mtd[\"{}_main_1D_2.2_10.0\".format(samplesans[:5])],savefile+\".h5\")\n",
    "        RenameWorkspace(\"{}_main_1D_2.2_10.0\".format(samplesans[:5]),savefile)"
   ]
  },
  {
   "cell_type": "code",
   "execution_count": null,
   "metadata": {
    "scrolled": true
   },
   "outputs": [],
   "source": [
    "# add the seperate data sets together to improve statistics\n",
    "ici.AddRuns([75884,75892,75921,75932,75943,75954,75965], instrument='LOQ', binning='Monitors')\n",
    "ici.AddRuns([75883,75891,75920,75931,75942,75953,75964], instrument='LOQ', binning='Monitors')\n",
    "ici.AddRuns([75882,75890,75919,75930,75941,75952,75963], instrument='LOQ', binning='Monitors')\n",
    "ici.AddRuns([75881,75889,75918,75929,75940,75951,75962], instrument='LOQ', binning='Monitors')"
   ]
  },
  {
   "cell_type": "code",
   "execution_count": null,
   "metadata": {
    "scrolled": true
   },
   "outputs": [],
   "source": [
    "# reduce the GFP data using the summed data, save and rename the workspaces for saving and plotting\n",
    "reducerun1D('75965-add.nxs','75876.nxs','75962-add.nxs','75873.nxs','75869.nxs','USER_LOQ_125B.txt','GFP_1mgml')\n",
    "reducerun1D('75964-add.nxs','75875.nxs','75962-add.nxs','75873.nxs','75869.nxs','USER_LOQ_125B.txt','GFP_5mgml')\n",
    "reducerun1D('75963-add.nxs','75874.nxs','75962-add.nxs','75873.nxs','75869.nxs','USER_LOQ_125B.txt','GFP_10mgml')"
   ]
  },
  {
   "cell_type": "code",
   "execution_count": null,
   "metadata": {},
   "outputs": [],
   "source": [
    "# load the original reduced data from the paper as a check\n",
    "origGFP_1mgml=LoadCanSAS1D(f\"{datapath}/original_reduced_data/GFP_1mgml_rear.xml\")\n",
    "origGFP_5mgml=LoadCanSAS1D(f\"{datapath}/original_reduced_data/GFP_5mgml_rear.xml\")\n",
    "origGFP_10mgml=LoadCanSAS1D(f\"{datapath}/original_reduced_data/GFP_10mgml_rear.xml\")"
   ]
  },
  {
   "cell_type": "code",
   "execution_count": null,
   "metadata": {
    "scrolled": true
   },
   "outputs": [],
   "source": [
    "# plot the data.\n",
    "import matplotlib.pyplot as plt\n",
    "%matplotlib inline\n",
    "from mantid.api import AnalysisDataService as ADS\n",
    "\n",
    "GFP_1mgml = ADS.retrieve('GFP_1mgml')\n",
    "GFP_5mgml = ADS.retrieve('GFP_5mgml')\n",
    "GFP_10mgml = ADS.retrieve('GFP_10mgml')\n",
    "origGFP_1mgml = ADS.retrieve('origGFP_1mgml')\n",
    "origGFP_5mgml = ADS.retrieve('origGFP_5mgml')\n",
    "origGFP_10mgml = ADS.retrieve('origGFP_10mgml')\n",
    "\n",
    "fig, axes = plt.subplots(edgecolor='#ffffff', num='GFP LOQ data', subplot_kw={'projection': 'mantid'})\n",
    "axes.errorbar(GFP_10mgml, capsize=2.0, capthick=0.5, color='#1f77b4', elinewidth=0.5, label='GFP_10mgml', linewidth=0.5, marker='.', markersize=3.0, specNum=1)\n",
    "axes.errorbar(GFP_1mgml, capsize=2.0, capthick=0.5, color='#ff7f0e', elinewidth=0.5, label='GFP_1mgml', linewidth=0.5, marker='.', markersize=3.0, specNum=1)\n",
    "axes.errorbar(GFP_5mgml, capsize=2.0, capthick=0.5, color='#2ca02c', elinewidth=0.5, label='GFP_5mgml', linewidth=0.5, marker='.', markersize=3.0, specNum=1)\n",
    "axes.errorbar(origGFP_10mgml, capsize=2.0, capthick=0.5, color='k', elinewidth=0.5, label='origGFP_10mgml', linewidth=0.5, marker='.', markersize=3.0, specNum=1)\n",
    "axes.errorbar(origGFP_1mgml, capsize=2.0, capthick=0.5, color='r', elinewidth=0.5, label='origGFP_1mgml', linewidth=0.5, marker='.', markersize=3.0, specNum=1)\n",
    "axes.errorbar(origGFP_5mgml, capsize=2.0, capthick=0.5, color='m', elinewidth=0.5, label='origGFP_5mgml', linewidth=0.5, marker='.', markersize=3.0, specNum=1)\n",
    "axes.set_title('GFP LOQ data')\n",
    "axes.set_xlabel('q ($\\AA^{-1}$)')\n",
    "axes.set_ylabel('I(q) / $cm^{-1}$')\n",
    "axes.set_xlim([0.008, 0.3])\n",
    "axes.set_ylim([0.001, 1.0])\n",
    "axes.set_xscale('log')\n",
    "axes.set_yscale('log')\n",
    "axes.grid()\n",
    "axes.grid(b=True, which='minor', linestyle='--')\n",
    "axes.legend()"
   ]
  },
  {
   "cell_type": "code",
   "execution_count": null,
   "metadata": {},
   "outputs": [],
   "source": [
    "# reset the search and save directories to their original values\n",
    "config[\"datasearch.directories\"] = dirs_before\n",
    "config[\"defaultsave.directory\"] = savedir_before"
   ]
  },
  {
   "cell_type": "code",
   "execution_count": null,
   "metadata": {},
   "outputs": [],
   "source": []
  }
 ],
 "metadata": {
  "kernelspec": {
   "display_name": "mantid-nightly",
   "language": "python",
   "name": "mantid-nightly"
  },
  "language_info": {
   "codemirror_mode": {
    "name": "ipython",
    "version": 3
   },
   "file_extension": ".py",
   "mimetype": "text/x-python",
   "name": "python",
   "nbconvert_exporter": "python",
   "pygments_lexer": "ipython3",
   "version": "3.8.12"
  }
 },
 "nbformat": 4,
 "nbformat_minor": 4
}
